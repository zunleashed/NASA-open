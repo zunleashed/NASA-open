{
 "cells": [
  {
   "cell_type": "code",
   "execution_count": 27,
   "id": "ed992c5d",
   "metadata": {},
   "outputs": [
    {
     "name": "stdout",
     "output_type": "stream",
     "text": [
      "Created folder: c:\\NASA-open\\gitIGNORE\n"
     ]
    }
   ],
   "source": [
    "import os\n",
    "import requests\n",
    "\n",
    "gitIGNORE = 'gitIGNORE'\n",
    "nasa_api = f'nasa-api.txt'\n",
    "\n",
    "def createMyFolders(folder_names_list: list, destination: str):\n",
    "    \"\"\"\n",
    "    desitination: absolute path\n",
    "    \"\"\"\n",
    "    import os\n",
    "\n",
    "    if not os.path.exists(destination): # check if destination exists\n",
    "        print(f\"Destination does NOT exists: {destination}\")\n",
    "        return\n",
    "    \n",
    "    # loop thru all folder names and attempt to create them\n",
    "    for folder_name in folder_names_list:\n",
    "        folder_path = os.path.join(destination, folder_name)\n",
    "        try:\n",
    "            os.makedirs(folder_path, exist_ok=True)\n",
    "            print(f\"Created folder: {folder_path}\")\n",
    "        except Exception as e:\n",
    "            print(f\"Failed to create folder {folder_path}: {e}\")\n",
    "\n",
    "    return None\n",
    "\n",
    "createMyFolders([gitIGNORE], os.getcwd()) # create folders in the current working directory\n",
    "\n",
    "# open(f'{gitIGNORE}/{nasa_api}', 'a').close() # open an empty file in append mode and close it so empty file is created\n",
    "\n"
   ]
  },
  {
   "cell_type": "code",
   "execution_count": 28,
   "id": "da1a38b3",
   "metadata": {},
   "outputs": [],
   "source": [
    "with open(rf\"{gitIGNORE}\\{nasa_api}\", 'r') as file:\n",
    "    apikey = file.read()"
   ]
  },
  {
   "cell_type": "code",
   "execution_count": 47,
   "id": "8de3cf76",
   "metadata": {},
   "outputs": [
    {
     "name": "stdout",
     "output_type": "stream",
     "text": [
      "Title: The Pleiades in Red and Blue\n",
      "Date: 2025-07-08\n",
      "If you have looked at the sky and seen a group of stars about the size of the full Moon, that's the Pleiades (M45). \n",
      "Perhaps the most famous star cluster in the sky, its brightest stars can be seen even from the light-polluted cities. \n",
      "But your unaided eye can also see its nebulosity -- the gas and dust surrounding it -- under dark skies. \n",
      "However, telescopes can catch even more. \n",
      "The bright blue stars of the Pleiades, also known as the Seven Sisters, light up their surrounding dust, causing it to appear a diffuse blue that can only be seen under long exposures. \n",
      "But that's not all. \n",
      "The cosmic dust appears to stretch upward like ethereal arms. \n",
      "And the entire structure is surrounded by a reddish glow from the most abundant element in the universe: hydrogen. \n",
      "The featured image is composed of nearly 25 hours of exposure and was captured last year from Starfront Observatory, in Texas, USA  Explore Your Universe: Random APOD Generator. \n",
      "File Type: image\n",
      "Image URL: https://apod.nasa.gov/apod/image/2507/Pleiades_Kayali_2560.jpg\n"
     ]
    }
   ],
   "source": [
    "baseURL = 'https://api.nasa.gov/planetary/apod'\n",
    "\n",
    "params = {\n",
    "    'api_key': apikey,\n",
    "\n",
    "\n",
    "\n",
    "\n",
    "    'date': '2025-07-08',  \n",
    "\n",
    "\n",
    "\n",
    "\n",
    "\n",
    "    'hd': True              # Request high-definition image (if available)\n",
    "}\n",
    "\n",
    "response = requests.get(baseURL, params=params)\n",
    "\n",
    "if response.status_code == 200:\n",
    "    data = response.json()\n",
    "    print(f\"Title: {data['title']}\")\n",
    "    print(f\"Date: {data['date']}\")\n",
    "    exp = data['explanation'].split('. ')\n",
    "    [print(f'{_}. ') for _ in exp]  \n",
    "    mediaType = data['media_type']\n",
    "    print(f\"File Type: {mediaType}\")\n",
    "    print(f\"Image URL: {data['hdurl'] if 'hdurl' in data else data['url']}\")\n",
    "else:\n",
    "    print(f\"Error {response.status_code}: {response.text}\")\n"
   ]
  },
  {
   "cell_type": "code",
   "execution_count": 30,
   "id": "f7573bc2",
   "metadata": {},
   "outputs": [
    {
     "data": {
      "text/plain": [
       "33.12"
      ]
     },
     "execution_count": 30,
     "metadata": {},
     "output_type": "execute_result"
    }
   ],
   "source": [
    "def loopSleep_sec(constantOperationDuration_minutes=None, dailyLimit=None, hourlyLimit=None, minuteLimit=None, safety_margin=1.15):\n",
    "    \"\"\"\n",
    "    Calculates seconds to sleep between API calls to respect limits,\n",
    "    returning a float with a safety margin.\n",
    "\n",
    "    Parameters:\n",
    "    - constantOperationDuration_minutes: total planned operation time (optional)\n",
    "    - dailyLimit, hourlyLimit, minuteLimit: API call limits per period\n",
    "    - safety_margin: multiplier to add margin of safety (default 1.1 = +10%)\n",
    "\n",
    "    Returns:\n",
    "    - float seconds to sleep between calls\n",
    "    \"\"\"\n",
    "    sleep_times = []\n",
    "\n",
    "    if dailyLimit is not None:\n",
    "        sleep_times.append((86400 / dailyLimit) * safety_margin)  # seconds per call daily\n",
    "\n",
    "    if hourlyLimit is not None:\n",
    "        sleep_times.append((3600 / hourlyLimit) * safety_margin)  # seconds per call hourly\n",
    "\n",
    "    if minuteLimit is not None:\n",
    "        sleep_times.append((60 / minuteLimit) * safety_margin)    # seconds per call minute\n",
    "\n",
    "    if constantOperationDuration_minutes is not None:\n",
    "        total_seconds = constantOperationDuration_minutes * 60\n",
    "        if dailyLimit is not None:\n",
    "            sleep_times.append((total_seconds / dailyLimit) * safety_margin)\n",
    "        if hourlyLimit is not None:\n",
    "            sleep_times.append((total_seconds / (hourlyLimit * (constantOperationDuration_minutes / 60))) * safety_margin)\n",
    "        if minuteLimit is not None:\n",
    "            sleep_times.append((total_seconds / (minuteLimit * constantOperationDuration_minutes)) * safety_margin)\n",
    "\n",
    "    if not sleep_times:\n",
    "        return 0.0  # no limits, no sleep needed\n",
    "\n",
    "    sleep_sec = max(sleep_times)\n",
    "    return sleep_sec\n",
    "\n",
    "\n",
    "\n",
    "\n",
    "loopSleep_sec(constantOperationDuration_minutes=24*60, hourlyLimit=1000, dailyLimit=3000)"
   ]
  },
  {
   "cell_type": "code",
   "execution_count": 31,
   "id": "a415bcbb",
   "metadata": {},
   "outputs": [
    {
     "data": {
      "text/plain": [
       "0.0276"
      ]
     },
     "execution_count": 31,
     "metadata": {},
     "output_type": "execute_result"
    }
   ],
   "source": [
    "24/1000*1.15"
   ]
  },
  {
   "cell_type": "code",
   "execution_count": null,
   "id": "e2fda832",
   "metadata": {},
   "outputs": [],
   "source": []
  }
 ],
 "metadata": {
  "kernelspec": {
   "display_name": "Python 3",
   "language": "python",
   "name": "python3"
  },
  "language_info": {
   "codemirror_mode": {
    "name": "ipython",
    "version": 3
   },
   "file_extension": ".py",
   "mimetype": "text/x-python",
   "name": "python",
   "nbconvert_exporter": "python",
   "pygments_lexer": "ipython3",
   "version": "3.13.5"
  }
 },
 "nbformat": 4,
 "nbformat_minor": 5
}
