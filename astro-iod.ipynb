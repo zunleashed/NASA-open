{
 "cells": [
  {
   "cell_type": "code",
   "execution_count": 2,
   "id": "ed992c5d",
   "metadata": {},
   "outputs": [
    {
     "name": "stdout",
     "output_type": "stream",
     "text": [
      "Created folder: c:\\NASA-open\\gitIGNORE\n"
     ]
    }
   ],
   "source": [
    "import os\n",
    "import requests\n",
    "\n",
    "gitIGNORE = 'gitIGNORE'\n",
    "nasa_api = f'nasa-api.txt'\n",
    "\n",
    "def createMyFolders(folder_names_list: list, destination: str):\n",
    "    \"\"\"\n",
    "    desitination: absolute path\n",
    "    \"\"\"\n",
    "    import os\n",
    "\n",
    "    if not os.path.exists(destination): # check if destination exists\n",
    "        print(f\"Destination does NOT exists: {destination}\")\n",
    "        return\n",
    "    \n",
    "    # loop thru all folder names and attempt to create them\n",
    "    for folder_name in folder_names_list:\n",
    "        folder_path = os.path.join(destination, folder_name)\n",
    "        try:\n",
    "            os.makedirs(folder_path, exist_ok=True)\n",
    "            print(f\"Created folder: {folder_path}\")\n",
    "        except Exception as e:\n",
    "            print(f\"Failed to create folder {folder_path}: {e}\")\n",
    "\n",
    "    return None\n",
    "\n",
    "createMyFolders([gitIGNORE], os.getcwd()) # create folders in the current working directory\n",
    "\n",
    "# open(f'{gitIGNORE}/{nasa_api}', 'a').close() # open an empty file in append mode and close it so empty file is created\n",
    "\n"
   ]
  },
  {
   "cell_type": "code",
   "execution_count": 3,
   "id": "da1a38b3",
   "metadata": {},
   "outputs": [],
   "source": [
    "with open(rf\"{gitIGNORE}\\{nasa_api}\", 'r') as file:\n",
    "    apikey = file.read()"
   ]
  },
  {
   "cell_type": "code",
   "execution_count": 11,
   "id": "8de3cf76",
   "metadata": {},
   "outputs": [
    {
     "name": "stdout",
     "output_type": "stream",
     "text": [
      "Title: Milky Way and Exploding Meteor\n",
      "Date: 2025-08-03\n",
      "In about a week the Perseid Meteor Shower will reach its maximum. \n",
      " Grains of icy rock will streak across the sky as they evaporate during entry into Earth's atmosphere. \n",
      " These grains were shed from Comet Swift-Tuttle. \n",
      " The Perseids result from the annual crossing of the Earth through Comet Swift-Tuttle's orbit, and are typically the most active meteor shower of the year. \n",
      " Although it is hard to predict the level of activity in any meteor shower, in a clear dark sky an observer might see a meteor a minute. \n",
      " This year's Perseids peak just a few days after  full moon, and so some faint meteors will be lost to the lunar skyglow. \n",
      " Meteor showers in general are best seen from a relaxing position, away from lights. \n",
      " Featured here is a meteor caught exploding during the 2015 Perseids above Austria next to the central band of our Milky Way Galaxy.. \n",
      "File Type: image\n",
      "Image URL: https://apod.nasa.gov/apod/image/2508/MeteorBoom_vanderHoeven_750.gif\n"
     ]
    }
   ],
   "source": [
    "baseURL = 'https://api.nasa.gov/planetary/apod'\n",
    "\n",
    "params = {\n",
    "    'api_key': apikey,\n",
    "    # 'date': '2025-08-01',  \n",
    "    'hd': True              # Request high-definition image (if available)\n",
    "}\n",
    "\n",
    "response = requests.get(baseURL, params=params)\n",
    "\n",
    "if response.status_code == 200:\n",
    "    data = response.json()\n",
    "    print(f\"Title: {data['title']}\")\n",
    "    print(f\"Date: {data['date']}\")\n",
    "    # print(f\"Explanation: {data['explanation']}\")\n",
    "    exp = data['explanation'].split('. ')\n",
    "    [print(f'{_}. ') for _ in exp]  \n",
    "    print(f\"File Type: {data['media_type']}\")\n",
    "    print(f\"Image URL: {data['hdurl'] if 'hdurl' in data else data['url']}\")\n",
    "else:\n",
    "    print(f\"Error {response.status_code}: {response.text}\")\n"
   ]
  }
 ],
 "metadata": {
  "kernelspec": {
   "display_name": "Python 3",
   "language": "python",
   "name": "python3"
  },
  "language_info": {
   "codemirror_mode": {
    "name": "ipython",
    "version": 3
   },
   "file_extension": ".py",
   "mimetype": "text/x-python",
   "name": "python",
   "nbconvert_exporter": "python",
   "pygments_lexer": "ipython3",
   "version": "3.13.5"
  }
 },
 "nbformat": 4,
 "nbformat_minor": 5
}
