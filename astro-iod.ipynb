{
 "cells": [
  {
   "cell_type": "markdown",
   "id": "eb097bbe",
   "metadata": {},
   "source": [
    "# Import and Initialization"
   ]
  },
  {
   "cell_type": "code",
   "execution_count": null,
   "id": "ed992c5d",
   "metadata": {},
   "outputs": [
    {
     "name": "stdout",
     "output_type": "stream",
     "text": [
      "folder exists: c:\\NASA-open\\gitIGNORE\n"
     ]
    }
   ],
   "source": [
    "import os\n",
    "import requests\n",
    "import datetime as dt\n",
    "import time\n",
    "import webbrowser\n",
    "import pandas as pd\n",
    "\n",
    "gitIGNORE = 'gitIGNORE'\n",
    "nasa_api = f'nasa-api.txt'\n",
    "\n",
    "def createMyFolders(folder_names_list: list, destination: str):\n",
    "    \"\"\"\n",
    "    desitination: absolute path\n",
    "    \"\"\"\n",
    "    import os\n",
    "\n",
    "    if not os.path.exists(destination): # check if destination exists\n",
    "        print(f\"Destination does NOT exists: {destination}\")\n",
    "        return\n",
    "    \n",
    "    # loop thru all folder names and attempt to create them\n",
    "    for folder_name in folder_names_list:\n",
    "        folder_path = os.path.join(destination, folder_name)\n",
    "        try:\n",
    "            if os.path.exists(folder_path):\n",
    "                print(f\"folder exists: {folder_path}\")\n",
    "            elif not os.path.exists(folder_path):\n",
    "                os.makedirs(folder_path, exist_ok=True)\n",
    "                print(f\"Created folder: {folder_path}\")\n",
    "        except Exception as e:\n",
    "            print(f\"Failed to create folder {folder_path}: {e}\")\n",
    "\n",
    "    return None\n",
    "\n",
    "createMyFolders([gitIGNORE], os.getcwd()) # create folders in the current working directory\n",
    "\n",
    "with open(rf\"{gitIGNORE}\\{nasa_api}\", 'r') as file:\n",
    "    apikey = file.read()\n",
    "\n"
   ]
  },
  {
   "cell_type": "markdown",
   "id": "f0fe8117",
   "metadata": {},
   "source": [
    "# Image of the Day"
   ]
  },
  {
   "cell_type": "code",
   "execution_count": 39,
   "id": "8de3cf76",
   "metadata": {},
   "outputs": [],
   "source": [
    "# # image of the day, single request for today \n",
    "\n",
    "# baseURL = 'https://api.nasa.gov/planetary/apod'\n",
    "# params = {\n",
    "#     'api_key': apikey,\n",
    "#     'date': '2025-08-16',  # comment out for automatically getting today's date\n",
    "#     'hd': True             \n",
    "# }\n",
    "\n",
    "# response = requests.get(baseURL, params=params)\n",
    "\n",
    "# if response.status_code == 200:\n",
    "#     data = response.json()\n",
    "#     print(f\"Title: {data['title']}\")\n",
    "#     print(f\"Date: {data['date']}\")\n",
    "#     exp = data['explanation'].split('. ')\n",
    "#     [print(f'{_}. ') for _ in exp]  \n",
    "#     mediaType = data['media_type']\n",
    "#     print(f\"File Type: {mediaType}\")\n",
    "#     print(f\"Image URL: {data['hdurl'] if 'hdurl' in data else data['url']}\")\n",
    "# else:\n",
    "#     print(f\"Error {response.status_code}: {response.text}\")\n"
   ]
  },
  {
   "cell_type": "markdown",
   "id": "8aef1d2d",
   "metadata": {},
   "source": []
  },
  {
   "cell_type": "markdown",
   "id": "c184e07d",
   "metadata": {},
   "source": [
    "# Batch Requesting Multiple Historical Days Image of the Day"
   ]
  },
  {
   "cell_type": "code",
   "execution_count": null,
   "id": "e2fda832",
   "metadata": {},
   "outputs": [
    {
     "name": "stdout",
     "output_type": "stream",
     "text": [
      "Request Date 2025-06-30\n",
      "Title:  NGC 4651: The Umbrella Galaxy\n",
      "url:  https://apod.nasa.gov/apod/image/2506/UmbrellaGal_Alkuwari_3843.png\n",
      "Explanation:\n",
      "It's raining stars.\n",
      " What appears to be a giant cosmic umbrella is now known to be a tidal stream of stars stripped from a small satellite galaxy.\n",
      "The main galaxy, spiral galaxy NGC 4651, is about the size of our Milky Way, while its stellar parasol appears to extend some 100 thousand light-years above this galaxy's bright disk.\n",
      "A small galaxy was likely torn apart by repeated encounters as it swept back and forth on eccentric orbits through NGC 4651.\n",
      "The remaining stars will surely fall back and become part of a combined larger galaxy over the next few million years.\n",
      "The featured deep image was captured in long exposures from Saudi Arabia.\n",
      "The Umbrella Galaxy lies about 50 million light-years distant toward the well-groomed northern constellation of Berenice's Hair (Coma Berenices).\n",
      "  APOD in a Modern Format StellarSnap.\n",
      "-----------------------------------------\n",
      "\n"
     ]
    },
    {
     "ename": "KeyboardInterrupt",
     "evalue": "",
     "output_type": "error",
     "traceback": [
      "\u001b[31m---------------------------------------------------------------------------\u001b[39m",
      "\u001b[31mKeyboardInterrupt\u001b[39m                         Traceback (most recent call last)",
      "\u001b[36mCell\u001b[39m\u001b[36m \u001b[39m\u001b[32mIn[40]\u001b[39m\u001b[32m, line 60\u001b[39m\n\u001b[32m     57\u001b[39m \u001b[38;5;28mprint\u001b[39m(\u001b[33m'\u001b[39m\u001b[33m-----------------------------------------\u001b[39m\u001b[38;5;130;01m\\n\u001b[39;00m\u001b[33m'\u001b[39m)\n\u001b[32m     58\u001b[39m logFile.write(\u001b[33m'\u001b[39m\u001b[33m-----------------------------------------\u001b[39m\u001b[38;5;130;01m\\n\u001b[39;00m\u001b[33m'\u001b[39m)\n\u001b[32m---> \u001b[39m\u001b[32m60\u001b[39m \u001b[43mtime\u001b[49m\u001b[43m.\u001b[49m\u001b[43msleep\u001b[49m\u001b[43m(\u001b[49m\u001b[38;5;28;43mfloat\u001b[39;49m\u001b[43m(\u001b[49m\u001b[43mapi_timeout_sec\u001b[49m\u001b[43m)\u001b[49m\u001b[43m)\u001b[49m  \u001b[38;5;66;03m# avoid/delay api rate limit\u001b[39;00m\n",
      "\u001b[31mKeyboardInterrupt\u001b[39m: "
     ]
    }
   ],
   "source": [
    "# -------------------- USER INPUTS -------------------- #\n",
    "today_date = dt.datetime.now().date().strftime(\"%Y-%d-%m\")  # get today's date for logging the acitivity \n",
    "startDate = \"2025-06-30\"   # when we start to request image of the day\n",
    "api_timeout_sec = 5        # use a time out to avoid/delay reaching api request limit\n",
    "num_of_days =2        # going back from the startDate, how many days do we want to get image-of-the-day for\n",
    "# ----------------------------------------------------- #\n",
    "\n",
    "\n",
    "\n",
    "baseURL = \"https://api.nasa.gov/planetary/apod\"   \n",
    "startDate = pd.to_datetime(startDate).date()    # convert string format of startDate to date object to allow subtraction/addition with pd.timedelta()\n",
    "\n",
    "with open('log.txt', 'a', encoding='utf-8') as logFile: \n",
    "\n",
    "    for i in range(num_of_days):  # start the range form 0 so the start date can be included \n",
    "        reqDate = startDate - pd.Timedelta(days=i)  # starting with the startDate, calculate the prior date\n",
    "        params = {'api_key': apikey, 'date':f'{reqDate}', 'hd':True} # request parameters\n",
    "        response = requests.get(url=baseURL, params=params)\n",
    "\n",
    "        data = response.json()    # parse the response into a jason\n",
    "\n",
    "        title = data.get('title', 'no title')    \n",
    "        explanation = data.get('explanation', 'None').split('. ')   # to avoid a long single line of description, .split() so we can print lines with list comprehension later\n",
    "        mediaType = data.get('media_type', 'unknown')\n",
    "        url = data.get('hdurl') if 'hdurl' in data else data.get('url', 'unknown')   # get hd url if it exists, if not, then get the regular url\n",
    "\n",
    "        if url:    #check to make sure there is a url\n",
    "            print('Request Date', reqDate)\n",
    "            print('Title: ', title)\n",
    "            print('url: ', url)\n",
    "            print('Explanation:')\n",
    "            [print(f\"{_}.\") for _ in explanation]\n",
    "            \n",
    " \n",
    "            if mediaType == 'image' or url.lower().endswith('.gif'):   # open the url if it's an image or a gif\n",
    "                webbrowser.open_new_tab(url)\n",
    "\n",
    "            # logging the description for the particular date\n",
    "            logFile.write(f\"Request Date: {reqDate}\\n\")\n",
    "            logFile.write(f\"Title: {title}\\n\")\n",
    "            logFile.write(f\"{url}\\n\")\n",
    "            logFile.write('Explanation:\\n')\n",
    "            for _ in explanation:\n",
    "                logFile.write(f'{_}.\\n')\n",
    "\n",
    "\n",
    "        else: \n",
    "            print(\"no URL available\")\n",
    "            logFile.write(\"no URL available\")\n",
    "\n",
    "        print('-----------------------------------------\\n')\n",
    "        logFile.write('-----------------------------------------\\n')\n",
    "\n",
    "        time.sleep(float(api_timeout_sec))  # avoid/delay api rate limit\n",
    "\n"
   ]
  },
  {
   "cell_type": "code",
   "execution_count": null,
   "id": "66a6baea",
   "metadata": {},
   "outputs": [],
   "source": []
  }
 ],
 "metadata": {
  "kernelspec": {
   "display_name": "Python 3",
   "language": "python",
   "name": "python3"
  },
  "language_info": {
   "codemirror_mode": {
    "name": "ipython",
    "version": 3
   },
   "file_extension": ".py",
   "mimetype": "text/x-python",
   "name": "python",
   "nbconvert_exporter": "python",
   "pygments_lexer": "ipython3",
   "version": "3.13.5"
  }
 },
 "nbformat": 4,
 "nbformat_minor": 5
}
